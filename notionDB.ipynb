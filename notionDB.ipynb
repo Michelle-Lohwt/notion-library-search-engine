{
 "cells": [
  {
   "cell_type": "code",
   "execution_count": 1,
   "metadata": {},
   "outputs": [],
   "source": [
    "import requests, json"
   ]
  },
  {
   "cell_type": "code",
   "execution_count": 2,
   "metadata": {},
   "outputs": [],
   "source": [
    "with open('SECRET.json') as jsonfile:\n",
    "  data = json.load(jsonfile)"
   ]
  },
  {
   "cell_type": "code",
   "execution_count": 3,
   "metadata": {},
   "outputs": [],
   "source": [
    "token = data['token']\n",
    "databaseId = data['databaseId']"
   ]
  },
  {
   "cell_type": "code",
   "execution_count": 4,
   "metadata": {},
   "outputs": [],
   "source": [
    "headers = {\n",
    "  'Authorization': 'Bearer ' + token,\n",
    "  'Notion-Version': '2022-06-28'\n",
    "}"
   ]
  },
  {
   "cell_type": "code",
   "execution_count": 5,
   "metadata": {},
   "outputs": [],
   "source": [
    "def readDatabase(databaseId, headers):\n",
    "  readUrl = f'https://api.notion.com/v1/databases/{databaseId}/query'\n",
    "  res = requests.request(\"POST\", readUrl, headers = headers)\n",
    "  data = res.json()\n",
    "\n",
    "  print(res.status_code)\n",
    "\n",
    "  with open('./notionDB.json', 'w', encoding = 'utf8') as f:\n",
    "    json.dump(data['results'], f, ensure_ascii = False)"
   ]
  },
  {
   "cell_type": "code",
   "execution_count": 6,
   "metadata": {},
   "outputs": [
    {
     "name": "stdout",
     "output_type": "stream",
     "text": [
      "200\n"
     ]
    }
   ],
   "source": [
    "readDatabase(databaseId, headers)"
   ]
  }
 ],
 "metadata": {
  "kernelspec": {
   "display_name": "Python 3.10.6 64-bit",
   "language": "python",
   "name": "python3"
  },
  "language_info": {
   "codemirror_mode": {
    "name": "ipython",
    "version": 3
   },
   "file_extension": ".py",
   "mimetype": "text/x-python",
   "name": "python",
   "nbconvert_exporter": "python",
   "pygments_lexer": "ipython3",
   "version": "3.10.6"
  },
  "orig_nbformat": 4,
  "vscode": {
   "interpreter": {
    "hash": "4d0648000be28e50208d202d097233315abbddc5facc57225e53ce810e34a358"
   }
  }
 },
 "nbformat": 4,
 "nbformat_minor": 2
}
